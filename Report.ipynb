{
 "cells": [
  {
   "cell_type": "markdown",
   "metadata": {},
   "source": [
    "\n",
    "#A Random Walk based Trust Ranking in Distributed Systems\n",
    "-----------\n",
    "-----------\n",
    "\n",
    "![](https://d1rkab7tlqy5f1.cloudfront.net/Websections/TU%20Delft%20Huisstijl/TU_Delft_logo_RGB.png?raw=true)\n",
    "\n",
    "Alexander Stannat \n",
    "\n",
    "07.09.2018\n"
   ]
  },
  {
   "cell_type": "markdown",
   "metadata": {},
   "source": [
    "##Preface\n",
    "\n",
    "\n",
    "This document is a report written for the course in \"Blockchain Engineering\" taken at \n",
    "Delft University of Technology in 2018. It was written to aid the Blockchain Lab's\n",
    "research on cooperation in distributed systems. \n",
    "\n",
    "In it we discuss the implementation of \n",
    "an algorithm to determine the trustworthiness of agents in a peer-to-peer file sharing \n",
    "network, called Tribler. \n",
    "\n",
    "In this way, we hope to contribute to the lab's long-term goal of achieving a universal\n",
    "mechanism of generating trust in distributed networks.\n"
   ]
  },
  {
   "cell_type": "markdown",
   "metadata": {},
   "source": [
    "## Table of Contents:\n",
    "1. Introduction\n",
    "\t\t1.1 Historical Background\n",
    "\t\t1.2 Trustchain \n",
    "\t\t1.3 Problem Description\n",
    "2. The Algorithm"
   ]
  },
  {
   "cell_type": "markdown",
   "metadata": {},
   "source": [
    "##Introduction <a id=\"Introduction\"></a>\n",
    "###Historical Background <a id=\"HistoricalBackground\"></a>\n",
    "\n",
    "With the ever-growing expansion and widespread acceptance of the internet the field of research in distributed systems \n",
    "is gaining evermore importance. In its simplest definition, a distributed system is a group of different processors working together on a common task. These processors have a shared state, operate concurrently and can fail independently. The primary \n",
    "advantages of a distributed system over a centralized system are scalability, fault-tolerance and low latency. There are however some drawbacks to the decentralized nature of these networks. The most notable being resource-management.  \n",
    "\n",
    "A particular example of distributed systems are peer-to-peer networks, also known as P2P networks. A peer-to-peer network allows computers to communicate without the need for a central server. Peer-to-peer file sharing refers to the distribution of digital media over a P2P network, in which the files are located on individuals' computers and shared with other members of the network, rather than on a centralized server. P2P software was the piracy method of choice in the early 2000s with software programs such as LimeWire, Gnutella and the Bittorent client being the most prominent sites. A Supreme Court decision in 2005 led to the closureof many of these sites for illegally sharing copyrighted material, mostly music.​\n",
    "\n",
    "In a peer-to-peer file sharing network agents up- and download files over the network to one another in a cooperative manner, whereby\n",
    "an agent that is holding a file (or at least a part of it) can offer it to other agents that require it, through actions called seeding and leeching. Seeders are those who offer upload bandwidth while leechers are the agents that only download. However, such systems have a clear and fundamental problem: users have an obvious incentive to download, but no inherent incentive to upload.\n",
    "Early file sharing networks such as the BitTorrent protocoll employ a tit-for-tat strategy to incentivize its users to participate reciprocally. \n",
    "\n",
    "Tit-for-tat is an effective strategy in game theory for the prisoner's dilemma , in which one agent cooperates first and then replicates it's opponents previous actions. Peers in the BitTorrent network have a limited number of upload slots to allocate. An agent will begin by exchanging upload bandwidth for download bandwidth with a number of its peers. If one of these peers turns out to be a leecher, i.e. does not reciprocate, it will be *choked*. This means the agent will discontinue it's cooperation and assign the corresponding upload slot to another randomly chosen peer; a process that is known as *optimistic unchoking*. \n",
    "\n",
    "In this setting agents do not keep a memory about their peer's reliability which enables forms of freeriding and other types of uncooperative behavior. There is no mechanism with which peers can be evaluated based on their reliability or trustworthiness as nodes in the network. The Blockchain Lab of the TU Delft aims to solve this problem exactly: Is it possible to incorporate a digital counterpart to trust in a distributed network with not central authority? Their peer-to-peer file sharing network called *Tribler* leverages social phenomena such as social networks and friendships in an attempt to optimize the traditional BitTorrent protocol. \n",
    "\n",
    "###Trustchain <a id=\"Trustchain\"></a> \n",
    "\n",
    "In order to build such a digital reputation scheme a distributed storage space or ledger is required. The Tribler application applies their own type of blockchain called *Trustchain*. The trustchain maintains records of all interactions between peers in the network, in respective blocks. Each block contains data about an individual transaction between two peers, such as the respective up-and download values, the peers' public keys and signatures as well as block sequence numbers and respective hashes. Blocks are linked to one another through hash pointers. Each block is then connected to two preceding and two succeeding blocks. This results in many different chains, each corresponding a single agent's transaction history.\n",
    "\n",
    "![](https://ars.els-cdn.com/content/image/1-s2.0-S0167739X17318988-gr2.jpg)\n",
    "\n",
    "When two agents interact with one another they share their chains with eachother and may even store information about each other's chains as well. This structure is strongly scalable, both in the number of agents in the network as well as in the number of transactions per agent. Moreover, the trustchain does not maintain a global consensus. This means that double-spends are not actually prevented as they are in traditional blockchains. However, they are made detectable and can subsequently be penalized through peer rejection or even by banning dishonest nodes from the network. Thereby fraudulent activity is not prevented but strongly disincentivized.\n",
    "\n",
    "As discussed in [Historical Background](#HistoricalBackground) the long standing issue of tribler is digitizing a method for evaluating the trustworthiness or reputation of nodes agents in a network. Such a mechanism is meant to deter lazy freerider, i.e. agents that purposefully contribute no or very little resources to the network, but at the sime time utilize the network for their own benefit. There have been many different approaches to this problem, however a viable and accurate solution has yet to be found. The first reputation system introduced in Tribler was *BarterCast*. BarterCast was based on the voluntary reports of agents about their own transactions. An inherent problem with system is the issue of deliberate misreporting about transactions, by agents that have made negative net contributions to the network. After BarterCast another accounting mechanism was introduced: DropEdge, which is an implementation of BarterCast on a subset of the graph and ignore all nodes that are interested in receiving some data. \n",
    "\n",
    "###Problem Description <a id=\"Problem Description\"></a>\n",
    "\n",
    "In this project we aimed to implement a mechanism which enables the ranking of nodes in the tribler network based on their respective contributions made. When a node is looking to query an overlay for a file to download, it will generate this ranking and determine which agent in the swarm it should engage with to maximize the likelihood of a successful transaction and a reciprocal relationship. \n",
    "\n",
    "The aim of this project was to implement an algorithm which could effectively rank agents in the Tribler network by their contribution made. This would create some notion of the trustworthiness of these nodes and should be used as an indication of the realibility of the node as an interaction partner. An agent that wants to download some file(s) will then interact with the node of the highest ranking.\n",
    "\n",
    "\n"
   ]
  },
  {
   "cell_type": "markdown",
   "metadata": {},
   "source": [
    "## The Algorithm <a id=\"HistoricalBackground\"></a>\n",
    "\n",
    "Random graphs such as the one modelling the Tribler network are a very common mathematical structure that can be found in many different applications such as the world wide web, where webpages correspond to the vertices and the edges represent the links connecting the nodes. The Google search engine employs a useful algorithm with which it ranks the importance of webpages in the graph. Due to the commonality of the underlying graph structure of both networks, it seems like a plausible to use PageRank for the evaluation of agents in the Tribler network. \n",
    "\n",
    "Traditionally, PageRank is computed through a method called the Power Iteration, whereby the dominant eigenvector of a transition matrix is computed, which is given by a matrix whose entries are zeros and ones denoting the existence (or non-existence) of links in between nodes. This vector then denotes the importance of webpages in the graph. It can be interpreted as the landing probabilites of an infinitely long random walk of the graph on the respective nodes. \n",
    "\n",
    "PageRank can be approximated by an iterative algorithm known as the Monte Carlo method. The Monte Carlo method for estimating the PageRanks has several advantages over the power iteration method. It provides a good estimation of PageRank after relatively few iterations, it has natural prallel implementation and finally, it allows for incremental updates of the underlying graph structure, enabling for continous computations of the PageRank. Something that we will further elaborate on later. \n",
    "\n",
    "![](https://2.bp.blogspot.com/-nn37hjdFR8E/UzqHsJHfQMI/AAAAAAAABHg/b7_7JjkGmIQ/s1600/g4.gif)\n",
    "\n",
    "\n",
    "\n",
    "\n",
    "\n",
    "\n",
    "\n",
    "\n",
    "\n",
    "Requirements: \n",
    "+ Computational Feasibility \n",
    "+ \n",
    "\n",
    "Things to mention:\n",
    "+ Query nodes for trustchain\n",
    "+ Random Walk Algorithm\n",
    "+ Incremental \n",
    "+ \n",
    "\n",
    "\n",
    "\n",
    "\n",
    "\n",
    "\n",
    "\n"
   ]
  },
  {
   "cell_type": "code",
   "execution_count": 12,
   "metadata": {},
   "outputs": [],
   "source": []
  },
  {
   "cell_type": "code",
   "execution_count": 12,
   "metadata": {},
   "outputs": [],
   "source": []
  },
  {
   "cell_type": "code",
   "execution_count": null,
   "metadata": {},
   "outputs": [],
   "source": []
  }
 ],
 "metadata": {
  "kernelspec": {
   "display_name": "Python 2",
   "language": "python",
   "name": "python2"
  },
  "language_info": {
   "codemirror_mode": {
    "name": "ipython",
    "version": 2
   },
   "file_extension": ".py",
   "mimetype": "text/x-python",
   "name": "python",
   "nbconvert_exporter": "python",
   "pygments_lexer": "ipython2",
   "version": "2.7.6"
  }
 },
 "nbformat": 4,
 "nbformat_minor": 0
}
