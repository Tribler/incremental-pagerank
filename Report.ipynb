{
 "cells": [
  {
   "cell_type": "markdown",
   "metadata": {},
   "source": [
    "<center>\n",
    "#A Random Walk based Trust Ranking in Distributed Systems\n",
    "-----------\n",
    "-----------\n",
    "\n",
    "![](https://d1rkab7tlqy5f1.cloudfront.net/Websections/TU%20Delft%20Huisstijl/TU_Delft_logo_RGB.png)\n",
    "\n",
    "Alexander Stannat \n",
    "\n",
    "07.09.2018\n",
    "<center>"
   ]
  },
  {
   "cell_type": "markdown",
   "metadata": {},
   "source": [
    "##Preface"
   ]
  },
  {
   "cell_type": "markdown",
   "metadata": {},
   "source": [
    "\n",
    "This document is a report written for the course in \"Blockchain Engineering\" taken at \n",
    "Delft University of Technology in 2018. It was written to aid the Blockchain Lab's\n",
    "research on cooperation in distributed systems. \n",
    "\n",
    "In it we discuss the implementation of \n",
    "an algorithm to determine the trustworthiness of agents in a peer-to-peer file sharing \n",
    "network, called Tribler. \n",
    "\n",
    "In this way, we hope to contribute to the lab's long-term goal of achieving a universal\n",
    "mechanism of generating trust in distributed networks.\n",
    "\n",
    "\n",
    "\n",
    "\n",
    " \n"
   ]
  },
  {
   "cell_type": "markdown",
   "metadata": {},
   "source": [
    "## Table of Contents:\n",
    "1. Introduction\n",
    "\t\t1.1 Historical Background\n",
    "\t\t1.2 Trustchain \n",
    "\t\t1.3 Problem Description\n",
    "2. "
   ]
  },
  {
   "cell_type": "code",
   "execution_count": null,
   "metadata": {},
   "outputs": [],
   "source": []
  }
 ],
 "metadata": {
  "kernelspec": {
   "display_name": "Python 2",
   "language": "python",
   "name": "python2"
  },
  "language_info": {
   "codemirror_mode": {
    "name": "ipython",
    "version": 2
   },
   "file_extension": ".py",
   "mimetype": "text/x-python",
   "name": "python",
   "nbconvert_exporter": "python",
   "pygments_lexer": "ipython2",
   "version": "2.7.6"
  }
 },
 "nbformat": 4,
 "nbformat_minor": 0
}
