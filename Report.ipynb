{
 "cells": [
  {
   "cell_type": "markdown",
   "metadata": {},
   "source": [
    "#Preface\n",
    "\n",
    "\n"
   ]
  },
  {
   "cell_type": "markdown",
   "metadata": {},
   "source": [
    "\n",
    "This document is a report written for the course in \"Blockchain Engineering\" taken at \n",
    "Delft University of Technology in 2018. It was written to aid the Blockchain Lab's\n",
    "research on cooperation in distributed systems. \n",
    "\n",
    "In it we discuss the implementation of \n",
    "an algorithm to determine the trustworthiness of agents in a peer-to-peer file sharing \n",
    "network, called Tribler. \n",
    "\n",
    "In this way, we hope to contribute to the lab's long-term goal of achieving a universal\n",
    "mechanism of generating trust in distributed networks.\n",
    "\n",
    "\n",
    " \n"
   ]
  },
  {
   "cell_type": "heading",
   "metadata": {},
   "level": 1,
   "source": [
    ""
   ]
  },
  {
   "cell_type": "markdown",
   "metadata": {},
   "source": [
    "Hello\n"
   ]
  },
  {
   "cell_type": "code",
   "execution_count": null,
   "metadata": {},
   "outputs": [],
   "source": []
  }
 ],
 "metadata": {
  "kernelspec": {
   "display_name": "Python 2",
   "language": "python",
   "name": "python2"
  },
  "language_info": {
   "codemirror_mode": {
    "name": "ipython",
    "version": 2
   },
   "file_extension": ".py",
   "mimetype": "text/x-python",
   "name": "python",
   "nbconvert_exporter": "python",
   "pygments_lexer": "ipython2",
   "version": "2.7.6"
  }
 },
 "nbformat": 4,
 "nbformat_minor": 0
}
